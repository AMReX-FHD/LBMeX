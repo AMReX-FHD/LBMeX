{
 "cells": [
  {
   "cell_type": "code",
   "execution_count": 1,
   "metadata": {},
   "outputs": [],
   "source": [
    "import sympy as sp\n",
    "from lbmpy.stencils import LBStencil, Stencil\n",
    "from lbmpy.moments import MOMENT_SYMBOLS, moment_matrix"
   ]
  },
  {
   "cell_type": "code",
   "execution_count": 2,
   "metadata": {},
   "outputs": [],
   "source": [
    "d2q9 = LBStencil(Stencil.D2Q9)\n",
    "Q = len(d2q9)\n",
    "c = sp.Matrix(d2q9)\n",
    "cs = sp.sqrt(sp.Rational(1,3))\n",
    "\n",
    "x, y, z = MOMENT_SYMBOLS\n",
    "one = sp.core.sympify(1)\n",
    "c2 = x**2 + y**2\n",
    "c4 = c2**2\n",
    "moments = [\n",
    "    one,\n",
    "    x,\n",
    "    y,\n",
    "    3*c2 - 2,\n",
    "    2*x**2 - c2,\n",
    "    x*y,\n",
    "    (3*c2-4)*x,\n",
    "    (3*c2-4)*y,\n",
    "    9*c4-15*c2+2\n",
    "]\n",
    "M = moment_matrix(moments, stencil=d2q9)"
   ]
  },
  {
   "cell_type": "code",
   "execution_count": 3,
   "metadata": {},
   "outputs": [],
   "source": [
    "kappa = sp.symbols('kappa')\n",
    "pb = sp.symbols('p_0')\n",
    "rho = sp.symbols('rho',cls=sp.Function)(x,y,z)\n",
    "ux, uy, uz = sp.symbols('u_x, u_y, u_z')\n",
    "u = sp.Matrix([ux,uy])\n",
    "Drho2 = sp.Matrix([ [ sp.Derivative(rho,a)*sp.Derivative(rho,b) for b in [x,y] ] for a in [x,y] ])\n",
    "D2rho = sum([ sp.Derivative(rho,a,2) for a in [x,y] ])\n",
    "G = kappa*Drho2\n",
    "\n",
    "one12 = sp.Rational(1,12)\n",
    "one18 = sp.Rational(1,18)\n",
    "one72 = sp.Rational(1,72)\n",
    "\n",
    "w = [ sp.Rational(4,9) ] + [ sp.Rational(1,9) ]*4 + [ sp.Rational(1,36) ]*4\n",
    "\n",
    "ww =  [ [[0]*2]*2 ] \\\n",
    "    + [ [ [  -one18, 0 ], [ 0, 2*one18 ] ] ]*2 \\\n",
    "    + [ [ [ 2*one18, 0 ], [ 0,  -one18 ] ] ]*2 \\\n",
    "    + [ [ [ -one72, -one12 ], [ -one12, -one72 ] ],\n",
    "        [ [ -one72,  one12 ], [  one12, -one72 ] ],\n",
    "        [ [ -one72,  one12 ], [  one12, -one72 ] ],\n",
    "        [ [ -one72, -one12 ], [ -one12, -one72 ] ] ]\n",
    "\n",
    "def f(i):\n",
    "    f = w[i]/cs**2*pb \\\n",
    "        + w[i]/cs**2*rho*c[i,:].dot(u) \\\n",
    "        + w[i]/(2*cs**4)*rho*u.dot((c[i,:].T@c[i,:]-cs**2*sp.eye(2))@u) \\\n",
    "        - w[i]/cs**2*(kappa*rho*D2rho) \\\n",
    "        + sum([ ww[i][j][j]/cs**2*G[j,j] for j in range(2) ]) \\\n",
    "        + sum([ ww[i][j][(j+1)%2]/cs**2*G[j,(j+1)%2] for j in range(1) ])\n",
    "    return f\n",
    "\n",
    "feq = sp.Matrix([ f(i) for i in range(Q) ])\n",
    "feq[0] = rho - sum(feq[1:])\n",
    "\n",
    "mf = sp.simplify(M@feq)"
   ]
  },
  {
   "cell_type": "code",
   "execution_count": 4,
   "metadata": {},
   "outputs": [],
   "source": [
    "rho0 = sp.symbols('rho_0')\n",
    "k = sp.symbols('k')\n",
    "d = 6*(sp.symbols('c_s')**2+rho0*kappa*k**2 - cs**2)\n",
    "gb,gs,gq,ge = sp.symbols('gamma_b, gamma_s, gamma_q, gamma_epsilon')\n",
    "lb,ls,lq,le = sp.symbols('lambda_b, lambda_s, lambda_q, lambda_epsilon')\n",
    "Omega = sp.zeros(Q,Q)\n",
    "Omega[3,3] = lb\n",
    "Omega[4,4] = ls\n",
    "Omega[6,6] = lq\n",
    "Omega[8,8] = le\n",
    "Omega[5,5] = Omega[4,4]\n",
    "Omega[7,7] = Omega[6,6]\n",
    "Omega[3,0] = -lb*d\n",
    "Omega[8,0] = le*d"
   ]
  },
  {
   "cell_type": "code",
   "execution_count": 5,
   "metadata": {},
   "outputs": [],
   "source": [
    "kappa = sp.symbols('kappa')\n",
    "pb = sp.symbols('p_0')\n",
    "rho = sp.symbols('rho',cls=sp.Function)(x,y,z)\n",
    "ux, uy, uz = sp.symbols('u_x, u_y, u_z')\n",
    "kx, ky, kz = sp.symbols('k_x, k_y, k_z')\n",
    "ks = {x:kx,y:ky,z:kz}\n",
    "u = sp.Matrix([ux,uy])\n",
    "Drho2 = sp.Matrix([ [ 0 for b in [x,y] ] for a in [x,y] ])\n",
    "D2rho = -k**2*rho\n",
    "G = kappa*Drho2\n",
    "\n",
    "one12 = sp.Rational(1,12)\n",
    "one18 = sp.Rational(1,18)\n",
    "one72 = sp.Rational(1,72)\n",
    "\n",
    "w = [ sp.Rational(4,9) ] + [ sp.Rational(1,9) ]*4 + [ sp.Rational(1,36) ]*4\n",
    "\n",
    "ww =  [ [[0]*2]*2 ] \\\n",
    "    + [ [ [  -one18, 0 ], [ 0, 2*one18 ] ] ]*2 \\\n",
    "    + [ [ [ 2*one18, 0 ], [ 0,  -one18 ] ] ]*2 \\\n",
    "    + [ [ [ -one72, -one12 ], [ -one12, -one72 ] ],\n",
    "        [ [ -one72,  one12 ], [  one12, -one72 ] ],\n",
    "        [ [ -one72,  one12 ], [  one12, -one72 ] ],\n",
    "        [ [ -one72, -one12 ], [ -one12, -one72 ] ] ]\n",
    "\n",
    "def f(i):\n",
    "    f = w[i]/cs**2*pb \\\n",
    "        + w[i]/cs**2*rho*c[i,:].dot(u) \\\n",
    "        + w[i]/(2*cs**4)*rho*u.dot((c[i,:].T@c[i,:]-cs**2*sp.eye(2))@u) \\\n",
    "        - w[i]/cs**2*(kappa*rho*D2rho) \\\n",
    "        + sum([ ww[i][j][j]/cs**2*G[j,j] for j in range(2) ]) \\\n",
    "        + sum([ ww[i][j][(j+1)%2]/cs**2*G[j,(j+1)%2] for j in range(1) ])\n",
    "    return f\n",
    "\n",
    "feq = sp.Matrix([ f(i) for i in range(Q) ])\n",
    "feq[0] = rho - sum(feq[1:])\n",
    "\n",
    "fbar = feq.subs({pb:rho*sp.symbols('c_s')**2}).subs({rho:rho0,ux:0,uy:0})\n",
    "S = sp.symbols('S', cls=sp.Function)(k)/rho0*sp.diag(*fbar)"
   ]
  },
  {
   "cell_type": "code",
   "execution_count": 6,
   "metadata": {},
   "outputs": [
    {
     "data": {
      "text/latex": [
       "$\\displaystyle \\left[\\begin{matrix}S{\\left(k \\right)} & 0 & 0 & 2 \\cdot \\left(3 c_{s}^{2} + 3 k^{2} \\kappa \\rho_{0} - 1\\right) S{\\left(k \\right)} & 0 & 0 & 0 & 0 & 2 \\left(- 3 c_{s}^{2} - 3 k^{2} \\kappa \\rho_{0} + 1\\right) S{\\left(k \\right)}\\\\0 & \\left(c_{s}^{2} + k^{2} \\kappa \\rho_{0}\\right) S{\\left(k \\right)} & 0 & 0 & 0 & 0 & 0 & 0 & 0\\\\0 & 0 & \\left(c_{s}^{2} + k^{2} \\kappa \\rho_{0}\\right) S{\\left(k \\right)} & 0 & 0 & 0 & 0 & 0 & 0\\\\2 \\cdot \\left(3 c_{s}^{2} + 3 k^{2} \\kappa \\rho_{0} - 1\\right) S{\\left(k \\right)} & 0 & 0 & 4 S{\\left(k \\right)} & 0 & 0 & 0 & 0 & 4 \\cdot \\left(3 c_{s}^{2} + 3 k^{2} \\kappa \\rho_{0} - 1\\right) S{\\left(k \\right)}\\\\0 & 0 & 0 & 0 & \\frac{4 \\left(c_{s}^{2} + k^{2} \\kappa \\rho_{0}\\right) S{\\left(k \\right)}}{3} & 0 & 0 & 0 & 0\\\\0 & 0 & 0 & 0 & 0 & \\frac{\\left(c_{s}^{2} + k^{2} \\kappa \\rho_{0}\\right) S{\\left(k \\right)}}{3} & 0 & 0 & 0\\\\0 & 0 & 0 & 0 & 0 & 0 & 2 \\left(c_{s}^{2} + k^{2} \\kappa \\rho_{0}\\right) S{\\left(k \\right)} & 0 & 0\\\\0 & 0 & 0 & 0 & 0 & 0 & 0 & 2 \\left(c_{s}^{2} + k^{2} \\kappa \\rho_{0}\\right) S{\\left(k \\right)} & 0\\\\2 \\left(- 3 c_{s}^{2} - 3 k^{2} \\kappa \\rho_{0} + 1\\right) S{\\left(k \\right)} & 0 & 0 & 4 \\cdot \\left(3 c_{s}^{2} + 3 k^{2} \\kappa \\rho_{0} - 1\\right) S{\\left(k \\right)} & 0 & 0 & 0 & 0 & 4 \\cdot \\left(9 c_{s}^{2} + 9 k^{2} \\kappa \\rho_{0} + 1\\right) S{\\left(k \\right)}\\end{matrix}\\right]$"
      ],
      "text/plain": [
       "Matrix([\n",
       "[                                       S(k),                                0,                                0, 2*(3*c_s**2 + 3*k**2*kappa*rho_0 - 1)*S(k),                                    0,                                  0,                                  0,                                  0, 2*(-3*c_s**2 - 3*k**2*kappa*rho_0 + 1)*S(k)],\n",
       "[                                          0, (c_s**2 + k**2*kappa*rho_0)*S(k),                                0,                                          0,                                    0,                                  0,                                  0,                                  0,                                           0],\n",
       "[                                          0,                                0, (c_s**2 + k**2*kappa*rho_0)*S(k),                                          0,                                    0,                                  0,                                  0,                                  0,                                           0],\n",
       "[ 2*(3*c_s**2 + 3*k**2*kappa*rho_0 - 1)*S(k),                                0,                                0,                                     4*S(k),                                    0,                                  0,                                  0,                                  0,  4*(3*c_s**2 + 3*k**2*kappa*rho_0 - 1)*S(k)],\n",
       "[                                          0,                                0,                                0,                                          0, 4*(c_s**2 + k**2*kappa*rho_0)*S(k)/3,                                  0,                                  0,                                  0,                                           0],\n",
       "[                                          0,                                0,                                0,                                          0,                                    0, (c_s**2 + k**2*kappa*rho_0)*S(k)/3,                                  0,                                  0,                                           0],\n",
       "[                                          0,                                0,                                0,                                          0,                                    0,                                  0, 2*(c_s**2 + k**2*kappa*rho_0)*S(k),                                  0,                                           0],\n",
       "[                                          0,                                0,                                0,                                          0,                                    0,                                  0,                                  0, 2*(c_s**2 + k**2*kappa*rho_0)*S(k),                                           0],\n",
       "[2*(-3*c_s**2 - 3*k**2*kappa*rho_0 + 1)*S(k),                                0,                                0, 4*(3*c_s**2 + 3*k**2*kappa*rho_0 - 1)*S(k),                                    0,                                  0,                                  0,                                  0,  4*(9*c_s**2 + 9*k**2*kappa*rho_0 + 1)*S(k)]])"
      ]
     },
     "execution_count": 6,
     "metadata": {},
     "output_type": "execute_result"
    }
   ],
   "source": [
    "G = sp.simplify(M@S@M.T)\n",
    "G"
   ]
  },
  {
   "cell_type": "code",
   "execution_count": 7,
   "metadata": {},
   "outputs": [
    {
     "data": {
      "text/latex": [
       "$\\displaystyle \\left[\\begin{matrix}0 & 0 & 0 & 0 & 0 & 0 & 0 & 0 & 0\\\\0 & 0 & 0 & 0 & 0 & 0 & 0 & 0 & 0\\\\0 & 0 & 0 & 0 & 0 & 0 & 0 & 0 & 0\\\\0 & 0 & 0 & 4 \\left(\\lambda_{b} \\left(3 c_{s}^{2} + 3 k^{2} \\kappa \\rho_{0} - 1\\right)^{2} + \\left(\\lambda_{b} + 1\\right) \\left(\\lambda_{b} \\left(3 c_{s}^{2} + 3 k^{2} \\kappa \\rho_{0} - 1\\right)^{2} - \\lambda_{b} - 1\\right) + 1\\right) S{\\left(k \\right)} & 0 & 0 & 0 & 0 & 4 \\cdot \\left(3 c_{s}^{2} + 3 k^{2} \\kappa \\rho_{0} - 1\\right) \\left(- \\lambda_{\\epsilon} \\left(3 c_{s}^{2} + 3 k^{2} \\kappa \\rho_{0} - 1\\right) - \\left(\\lambda_{\\epsilon} + 1\\right) \\left(\\lambda_{b} \\left(3 c_{s}^{2} + 3 k^{2} \\kappa \\rho_{0} - 1\\right) + \\lambda_{b} + 1\\right) + 1\\right) S{\\left(k \\right)}\\\\0 & 0 & 0 & 0 & \\frac{4 \\cdot \\left(1 - \\left(\\lambda_{s} + 1\\right)^{2}\\right) \\left(c_{s}^{2} + k^{2} \\kappa \\rho_{0}\\right) S{\\left(k \\right)}}{3} & 0 & 0 & 0 & 0\\\\0 & 0 & 0 & 0 & 0 & \\frac{\\left(1 - \\left(\\lambda_{s} + 1\\right)^{2}\\right) \\left(c_{s}^{2} + k^{2} \\kappa \\rho_{0}\\right) S{\\left(k \\right)}}{3} & 0 & 0 & 0\\\\0 & 0 & 0 & 0 & 0 & 0 & 2 \\cdot \\left(1 - \\left(\\lambda_{q} + 1\\right)^{2}\\right) \\left(c_{s}^{2} + k^{2} \\kappa \\rho_{0}\\right) S{\\left(k \\right)} & 0 & 0\\\\0 & 0 & 0 & 0 & 0 & 0 & 0 & 2 \\cdot \\left(1 - \\left(\\lambda_{q} + 1\\right)^{2}\\right) \\left(c_{s}^{2} + k^{2} \\kappa \\rho_{0}\\right) S{\\left(k \\right)} & 0\\\\0 & 0 & 0 & 4 \\cdot \\left(3 c_{s}^{2} + 3 k^{2} \\kappa \\rho_{0} - 1\\right) \\left(- \\lambda_{b} \\left(3 c_{s}^{2} + 3 k^{2} \\kappa \\rho_{0} - 1\\right) - \\left(\\lambda_{b} + 1\\right) \\left(\\lambda_{\\epsilon} \\left(3 c_{s}^{2} + 3 k^{2} \\kappa \\rho_{0} - 1\\right) + \\lambda_{\\epsilon} + 1\\right) + 1\\right) S{\\left(k \\right)} & 0 & 0 & 0 & 0 & 4 \\cdot \\left(9 c_{s}^{2} + 9 k^{2} \\kappa \\rho_{0} + \\lambda_{\\epsilon} \\left(3 c_{s}^{2} + 3 k^{2} \\kappa \\rho_{0} - 1\\right)^{2} + \\left(\\lambda_{\\epsilon} + 1\\right) \\left(\\lambda_{\\epsilon} \\left(3 c_{s}^{2} + 3 k^{2} \\kappa \\rho_{0} - 1\\right)^{2} - \\left(\\lambda_{\\epsilon} + 1\\right) \\left(9 c_{s}^{2} + 9 k^{2} \\kappa \\rho_{0} + 1\\right)\\right) + 1\\right) S{\\left(k \\right)}\\end{matrix}\\right]$"
      ],
      "text/plain": [
       "Matrix([\n",
       "[0, 0, 0,                                                                                                                                                                                         0,                                                            0,                                                          0,                                                          0,                                                          0,                                                                                                                                                                                                                                            0],\n",
       "[0, 0, 0,                                                                                                                                                                                         0,                                                            0,                                                          0,                                                          0,                                                          0,                                                                                                                                                                                                                                            0],\n",
       "[0, 0, 0,                                                                                                                                                                                         0,                                                            0,                                                          0,                                                          0,                                                          0,                                                                                                                                                                                                                                            0],\n",
       "[0, 0, 0,                                            4*(lambda_b*(3*c_s**2 + 3*k**2*kappa*rho_0 - 1)**2 + (lambda_b + 1)*(lambda_b*(3*c_s**2 + 3*k**2*kappa*rho_0 - 1)**2 - lambda_b - 1) + 1)*S(k),                                                            0,                                                          0,                                                          0,                                                          0,                                                    4*(3*c_s**2 + 3*k**2*kappa*rho_0 - 1)*(-lambda_epsilon*(3*c_s**2 + 3*k**2*kappa*rho_0 - 1) - (lambda_epsilon + 1)*(lambda_b*(3*c_s**2 + 3*k**2*kappa*rho_0 - 1) + lambda_b + 1) + 1)*S(k)],\n",
       "[0, 0, 0,                                                                                                                                                                                         0, 4*(1 - (lambda_s + 1)**2)*(c_s**2 + k**2*kappa*rho_0)*S(k)/3,                                                          0,                                                          0,                                                          0,                                                                                                                                                                                                                                            0],\n",
       "[0, 0, 0,                                                                                                                                                                                         0,                                                            0, (1 - (lambda_s + 1)**2)*(c_s**2 + k**2*kappa*rho_0)*S(k)/3,                                                          0,                                                          0,                                                                                                                                                                                                                                            0],\n",
       "[0, 0, 0,                                                                                                                                                                                         0,                                                            0,                                                          0, 2*(1 - (lambda_q + 1)**2)*(c_s**2 + k**2*kappa*rho_0)*S(k),                                                          0,                                                                                                                                                                                                                                            0],\n",
       "[0, 0, 0,                                                                                                                                                                                         0,                                                            0,                                                          0,                                                          0, 2*(1 - (lambda_q + 1)**2)*(c_s**2 + k**2*kappa*rho_0)*S(k),                                                                                                                                                                                                                                            0],\n",
       "[0, 0, 0, 4*(3*c_s**2 + 3*k**2*kappa*rho_0 - 1)*(-lambda_b*(3*c_s**2 + 3*k**2*kappa*rho_0 - 1) - (lambda_b + 1)*(lambda_epsilon*(3*c_s**2 + 3*k**2*kappa*rho_0 - 1) + lambda_epsilon + 1) + 1)*S(k),                                                            0,                                                          0,                                                          0,                                                          0, 4*(9*c_s**2 + 9*k**2*kappa*rho_0 + lambda_epsilon*(3*c_s**2 + 3*k**2*kappa*rho_0 - 1)**2 + (lambda_epsilon + 1)*(lambda_epsilon*(3*c_s**2 + 3*k**2*kappa*rho_0 - 1)**2 - (lambda_epsilon + 1)*(9*c_s**2 + 9*k**2*kappa*rho_0 + 1)) + 1)*S(k)]])"
      ]
     },
     "execution_count": 7,
     "metadata": {},
     "output_type": "execute_result"
    }
   ],
   "source": [
    "Xi = sp.simplify(G-(sp.eye(Q,Q)+Omega)@G@(sp.eye(Q,Q)+Omega).T)\n",
    "Xi"
   ]
  },
  {
   "cell_type": "code",
   "execution_count": 8,
   "metadata": {
    "scrolled": false
   },
   "outputs": [],
   "source": [
    "d3q19 = LBStencil(Stencil.D3Q19)\n",
    "Q = len(d3q19)\n",
    "c = sp.Matrix(d3q19)\n",
    "cs = sp.sqrt(sp.Rational(1,3))\n",
    "\n",
    "x, y, z = MOMENT_SYMBOLS\n",
    "one = sp.core.sympify(1)\n",
    "c2 = x**2+y**2+z**2\n",
    "c4 = c2**2\n",
    "\n",
    "moments = [ \n",
    "    one,\n",
    "    x,\n",
    "    y,\n",
    "    z,\n",
    "    c2-one,\n",
    "    3*x**2-c2,\n",
    "    y**2-z**2,\n",
    "    x*y,\n",
    "    y*z,\n",
    "    z*x,\n",
    "    (3*c2-5)*x,\n",
    "    (3*c2-5)*y,\n",
    "    (3*c2-5)*z,\n",
    "    (y**2-z**2)*x,\n",
    "    (z**2-x**2)*y,\n",
    "    (x**2-y**2)*z,\n",
    "    3*c4-6*c2+one,\n",
    "    (2*c2-3)*(3*x**2-c2),\n",
    "    (2*c2-3)*(y**2-z**2)\n",
    "]\n",
    "\n",
    "M = moment_matrix(moments, stencil=d3q19)"
   ]
  },
  {
   "cell_type": "code",
   "execution_count": 9,
   "metadata": {},
   "outputs": [],
   "source": [
    "k = sp.symbols('kappa')\n",
    "Gamma = sp.symbols('Gamma_phi')\n",
    "rho = sp.symbols('rho',cls=sp.Function)(x,y,z)\n",
    "phi = sp.symbols('phi',cls=sp.Function)(x,y,z)\n",
    "pb = sp.symbols('p_b')\n",
    "mu = sp.symbols('mu_phi')\n",
    "ux, uy, uz = sp.symbols('u_x, u_y, u_z')\n",
    "u = sp.Matrix([ux,uy,uz])\n",
    "D2rho = sum([ sp.Derivative(rho,a,2) for a in [x,y,z] ])\n",
    "D2phi = sum([ sp.Derivative(phi,a,2) for a in [x,y,z] ])\n",
    "Drho2 = sp.Matrix([ [ sp.Derivative(rho,a)*sp.Derivative(rho,b) for b in [x,y,z] ] for a in [x,y,z] ])\n",
    "Dphi2 = sp.Matrix([ [ sp.Derivative(phi,a)*sp.Derivative(phi,b) for b in [x,y,z] ] for a in [x,y,z] ])\n",
    "G = k*Drho2+k*Dphi2\n",
    "\n",
    "five36 = sp.Rational(5,36)\n",
    "one9 = sp.Rational(1,9)\n",
    "one12 = sp.Rational(1,12)\n",
    "one36 = sp.Rational(1,36)\n",
    "one72 = sp.Rational(1,72)\n",
    "\n",
    "w = [ sp.Rational(1,3) ] + [ sp.Rational(1,18) ]*6 + [ sp.Rational(1,36) ]*12\n",
    "\n",
    "ww =  [ [[0]*3]*3 ] \\\n",
    "    + [ [ [ -one9, 0, 0], [0, five36, 0], [0, 0,  -one9] ] ]*2 \\\n",
    "    + [ [ [five36, 0, 0], [0,  -one9, 0], [0, 0,  -one9] ] ]*2 \\\n",
    "    + [ [ [ -one9, 0, 0], [0,  -one9, 0], [0, 0, five36] ] ]*2 \\\n",
    "    + [ [ [-one72, -one12, 0], [ -one12, -one72, 0], [ 0, 0, one36] ],\n",
    "        [ [-one72,  one12, 0], [  one12, -one72, 0], [ 0, 0, one36] ],\n",
    "        [ [-one72,  one12, 0], [  one12, -one72, 0], [ 0, 0, one36] ],\n",
    "        [ [-one72, -one12, 0], [ -one12, -one72, 0], [ 0, 0, one36] ],\n",
    "        [ [ one36, 0, 0], [ 0, -one72,  one12], [ 0,  one12, -one72] ],\n",
    "        [ [ one36, 0, 0], [ 0, -one72, -one12], [ 0, -one12, -one72] ],\n",
    "        [ [-one72, 0, -one12], [ 0, one36, 0], [ -one12, 0, -one72] ],\n",
    "        [ [-one72, 0,  one12], [ 0, one36, 0], [  one12, 0, -one72] ],\n",
    "        [ [ one36, 0, 0], [ 0, -one72, -one12], [ 0, -one12, -one72] ],\n",
    "        [ [ one36, 0, 0], [ 0, -one72,  one12], [ 0,  one12, -one72] ],\n",
    "        [ [-one72, 0,  one12], [ 0, one36, 0], [  one12, 0, -one72] ],\n",
    "        [ [-one72, 0, -one12], [ 0, one36, 0], [ -one12, 0, -one72] ] ]\n",
    "\n",
    "def f(i):\n",
    "    f = w[i]/cs**2*pb \\\n",
    "        + w[i]/cs**2*rho*c[i,:].dot(u) \\\n",
    "        + w[i]/(2*cs**4)*rho*u.dot((c[i,:].T@c[i,:]-cs**2*sp.eye(3))@u) \\\n",
    "        - w[i]/cs**2*(k*rho*D2rho+k*phi*D2phi) \\\n",
    "        + sum([ ww[i][j][j]/cs**2*G[j,j] for j in range(3) ]) \\\n",
    "        + sum([ ww[i][j][(j+1)%3]/cs**2*G[j,(j+1)%3] for j in range(3) ])\n",
    "    return f\n",
    "\n",
    "feq = sp.Matrix([ f(i) for i in range(0,Q) ])\n",
    "feq[0] = rho - sum(feq[1:])\n",
    "\n",
    "def g(i):\n",
    "    g = w[i]/cs**2*Gamma*mu \\\n",
    "        + w[i]/cs**2*phi*c[i,:].dot(u) \\\n",
    "        + w[i]/(2*cs**4)*phi*u.dot((c[i,:].T@c[i,:]-cs**2*sp.eye(3))@u)\n",
    "    return g\n",
    "\n",
    "geq = sp.Matrix([ g(i) for i in range(0,Q) ])\n",
    "geq[0] = phi - sum(geq[1:])"
   ]
  },
  {
   "cell_type": "code",
   "execution_count": 10,
   "metadata": {},
   "outputs": [
    {
     "data": {
      "text/latex": [
       "$\\displaystyle \\left[\\begin{matrix}\\rho{\\left(x,y,z \\right)}\\\\u_{x} \\rho{\\left(x,y,z \\right)}\\\\u_{y} \\rho{\\left(x,y,z \\right)}\\\\u_{z} \\rho{\\left(x,y,z \\right)}\\\\- 3 \\kappa \\phi{\\left(x,y,z \\right)} \\frac{\\partial^{2}}{\\partial x^{2}} \\phi{\\left(x,y,z \\right)} - 3 \\kappa \\phi{\\left(x,y,z \\right)} \\frac{\\partial^{2}}{\\partial y^{2}} \\phi{\\left(x,y,z \\right)} - 3 \\kappa \\phi{\\left(x,y,z \\right)} \\frac{\\partial^{2}}{\\partial z^{2}} \\phi{\\left(x,y,z \\right)} - 3 \\kappa \\rho{\\left(x,y,z \\right)} \\frac{\\partial^{2}}{\\partial x^{2}} \\rho{\\left(x,y,z \\right)} - 3 \\kappa \\rho{\\left(x,y,z \\right)} \\frac{\\partial^{2}}{\\partial y^{2}} \\rho{\\left(x,y,z \\right)} - 3 \\kappa \\rho{\\left(x,y,z \\right)} \\frac{\\partial^{2}}{\\partial z^{2}} \\rho{\\left(x,y,z \\right)} - \\frac{\\kappa \\left(\\frac{\\partial}{\\partial x} \\phi{\\left(x,y,z \\right)}\\right)^{2}}{2} - \\frac{\\kappa \\left(\\frac{\\partial}{\\partial y} \\phi{\\left(x,y,z \\right)}\\right)^{2}}{2} - \\frac{\\kappa \\left(\\frac{\\partial}{\\partial z} \\phi{\\left(x,y,z \\right)}\\right)^{2}}{2} - \\frac{\\kappa \\left(\\frac{\\partial}{\\partial x} \\rho{\\left(x,y,z \\right)}\\right)^{2}}{2} - \\frac{\\kappa \\left(\\frac{\\partial}{\\partial y} \\rho{\\left(x,y,z \\right)}\\right)^{2}}{2} - \\frac{\\kappa \\left(\\frac{\\partial}{\\partial z} \\rho{\\left(x,y,z \\right)}\\right)^{2}}{2} + 3 p_{b} + u_{x}^{2} \\rho{\\left(x,y,z \\right)} + u_{y}^{2} \\rho{\\left(x,y,z \\right)} + u_{z}^{2} \\rho{\\left(x,y,z \\right)} - \\rho{\\left(x,y,z \\right)}\\\\2 \\kappa \\left(\\frac{\\partial}{\\partial x} \\phi{\\left(x,y,z \\right)}\\right)^{2} - \\kappa \\left(\\frac{\\partial}{\\partial y} \\phi{\\left(x,y,z \\right)}\\right)^{2} - \\kappa \\left(\\frac{\\partial}{\\partial z} \\phi{\\left(x,y,z \\right)}\\right)^{2} + 2 \\kappa \\left(\\frac{\\partial}{\\partial x} \\rho{\\left(x,y,z \\right)}\\right)^{2} - \\kappa \\left(\\frac{\\partial}{\\partial y} \\rho{\\left(x,y,z \\right)}\\right)^{2} - \\kappa \\left(\\frac{\\partial}{\\partial z} \\rho{\\left(x,y,z \\right)}\\right)^{2} + 2 u_{x}^{2} \\rho{\\left(x,y,z \\right)} - u_{y}^{2} \\rho{\\left(x,y,z \\right)} - u_{z}^{2} \\rho{\\left(x,y,z \\right)}\\\\\\kappa \\left(\\frac{\\partial}{\\partial y} \\phi{\\left(x,y,z \\right)}\\right)^{2} - \\kappa \\left(\\frac{\\partial}{\\partial z} \\phi{\\left(x,y,z \\right)}\\right)^{2} + \\kappa \\left(\\frac{\\partial}{\\partial y} \\rho{\\left(x,y,z \\right)}\\right)^{2} - \\kappa \\left(\\frac{\\partial}{\\partial z} \\rho{\\left(x,y,z \\right)}\\right)^{2} + u_{y}^{2} \\rho{\\left(x,y,z \\right)} - u_{z}^{2} \\rho{\\left(x,y,z \\right)}\\\\\\kappa \\frac{\\partial}{\\partial x} \\phi{\\left(x,y,z \\right)} \\frac{\\partial}{\\partial y} \\phi{\\left(x,y,z \\right)} + \\kappa \\frac{\\partial}{\\partial x} \\rho{\\left(x,y,z \\right)} \\frac{\\partial}{\\partial y} \\rho{\\left(x,y,z \\right)} + u_{x} u_{y} \\rho{\\left(x,y,z \\right)}\\\\\\kappa \\frac{\\partial}{\\partial y} \\phi{\\left(x,y,z \\right)} \\frac{\\partial}{\\partial z} \\phi{\\left(x,y,z \\right)} + \\kappa \\frac{\\partial}{\\partial y} \\rho{\\left(x,y,z \\right)} \\frac{\\partial}{\\partial z} \\rho{\\left(x,y,z \\right)} + u_{y} u_{z} \\rho{\\left(x,y,z \\right)}\\\\\\kappa \\frac{\\partial}{\\partial x} \\phi{\\left(x,y,z \\right)} \\frac{\\partial}{\\partial z} \\phi{\\left(x,y,z \\right)} + \\kappa \\frac{\\partial}{\\partial x} \\rho{\\left(x,y,z \\right)} \\frac{\\partial}{\\partial z} \\rho{\\left(x,y,z \\right)} + u_{x} u_{z} \\rho{\\left(x,y,z \\right)}\\\\0\\\\0\\\\0\\\\0\\\\0\\\\0\\\\3 \\kappa \\phi{\\left(x,y,z \\right)} \\frac{\\partial^{2}}{\\partial x^{2}} \\phi{\\left(x,y,z \\right)} + 3 \\kappa \\phi{\\left(x,y,z \\right)} \\frac{\\partial^{2}}{\\partial y^{2}} \\phi{\\left(x,y,z \\right)} + 3 \\kappa \\phi{\\left(x,y,z \\right)} \\frac{\\partial^{2}}{\\partial z^{2}} \\phi{\\left(x,y,z \\right)} + 3 \\kappa \\rho{\\left(x,y,z \\right)} \\frac{\\partial^{2}}{\\partial x^{2}} \\rho{\\left(x,y,z \\right)} + 3 \\kappa \\rho{\\left(x,y,z \\right)} \\frac{\\partial^{2}}{\\partial y^{2}} \\rho{\\left(x,y,z \\right)} + 3 \\kappa \\rho{\\left(x,y,z \\right)} \\frac{\\partial^{2}}{\\partial z^{2}} \\rho{\\left(x,y,z \\right)} + \\frac{3 \\kappa \\left(\\frac{\\partial}{\\partial x} \\phi{\\left(x,y,z \\right)}\\right)^{2}}{2} + \\frac{3 \\kappa \\left(\\frac{\\partial}{\\partial y} \\phi{\\left(x,y,z \\right)}\\right)^{2}}{2} + \\frac{3 \\kappa \\left(\\frac{\\partial}{\\partial z} \\phi{\\left(x,y,z \\right)}\\right)^{2}}{2} + \\frac{3 \\kappa \\left(\\frac{\\partial}{\\partial x} \\rho{\\left(x,y,z \\right)}\\right)^{2}}{2} + \\frac{3 \\kappa \\left(\\frac{\\partial}{\\partial y} \\rho{\\left(x,y,z \\right)}\\right)^{2}}{2} + \\frac{3 \\kappa \\left(\\frac{\\partial}{\\partial z} \\rho{\\left(x,y,z \\right)}\\right)^{2}}{2} - 3 p_{b} + \\rho{\\left(x,y,z \\right)}\\\\2 \\kappa \\left(- 2 \\left(\\frac{\\partial}{\\partial x} \\phi{\\left(x,y,z \\right)}\\right)^{2} + \\left(\\frac{\\partial}{\\partial y} \\phi{\\left(x,y,z \\right)}\\right)^{2} + \\left(\\frac{\\partial}{\\partial z} \\phi{\\left(x,y,z \\right)}\\right)^{2} - 2 \\left(\\frac{\\partial}{\\partial x} \\rho{\\left(x,y,z \\right)}\\right)^{2} + \\left(\\frac{\\partial}{\\partial y} \\rho{\\left(x,y,z \\right)}\\right)^{2} + \\left(\\frac{\\partial}{\\partial z} \\rho{\\left(x,y,z \\right)}\\right)^{2}\\right)\\\\2 \\kappa \\left(- \\left(\\frac{\\partial}{\\partial y} \\phi{\\left(x,y,z \\right)}\\right)^{2} + \\left(\\frac{\\partial}{\\partial z} \\phi{\\left(x,y,z \\right)}\\right)^{2} - \\left(\\frac{\\partial}{\\partial y} \\rho{\\left(x,y,z \\right)}\\right)^{2} + \\left(\\frac{\\partial}{\\partial z} \\rho{\\left(x,y,z \\right)}\\right)^{2}\\right)\\end{matrix}\\right]$"
      ],
      "text/plain": [
       "Matrix([\n",
       "[                                                                                                                                                                                                                                                                                                                                                                                                                                                                                                                                                                                                                                                                                 rho(x, y, z)],\n",
       "[                                                                                                                                                                                                                                                                                                                                                                                                                                                                                                                                                                                                                                                                             u_x*rho(x, y, z)],\n",
       "[                                                                                                                                                                                                                                                                                                                                                                                                                                                                                                                                                                                                                                                                             u_y*rho(x, y, z)],\n",
       "[                                                                                                                                                                                                                                                                                                                                                                                                                                                                                                                                                                                                                                                                             u_z*rho(x, y, z)],\n",
       "[-3*kappa*phi(x, y, z)*Derivative(phi(x, y, z), (x, 2)) - 3*kappa*phi(x, y, z)*Derivative(phi(x, y, z), (y, 2)) - 3*kappa*phi(x, y, z)*Derivative(phi(x, y, z), (z, 2)) - 3*kappa*rho(x, y, z)*Derivative(rho(x, y, z), (x, 2)) - 3*kappa*rho(x, y, z)*Derivative(rho(x, y, z), (y, 2)) - 3*kappa*rho(x, y, z)*Derivative(rho(x, y, z), (z, 2)) - kappa*Derivative(phi(x, y, z), x)**2/2 - kappa*Derivative(phi(x, y, z), y)**2/2 - kappa*Derivative(phi(x, y, z), z)**2/2 - kappa*Derivative(rho(x, y, z), x)**2/2 - kappa*Derivative(rho(x, y, z), y)**2/2 - kappa*Derivative(rho(x, y, z), z)**2/2 + 3*p_b + u_x**2*rho(x, y, z) + u_y**2*rho(x, y, z) + u_z**2*rho(x, y, z) - rho(x, y, z)],\n",
       "[                                                                                                                                                                                                                                                                                                                                                                              2*kappa*Derivative(phi(x, y, z), x)**2 - kappa*Derivative(phi(x, y, z), y)**2 - kappa*Derivative(phi(x, y, z), z)**2 + 2*kappa*Derivative(rho(x, y, z), x)**2 - kappa*Derivative(rho(x, y, z), y)**2 - kappa*Derivative(rho(x, y, z), z)**2 + 2*u_x**2*rho(x, y, z) - u_y**2*rho(x, y, z) - u_z**2*rho(x, y, z)],\n",
       "[                                                                                                                                                                                                                                                                                                                                                                                                                                                                                        kappa*Derivative(phi(x, y, z), y)**2 - kappa*Derivative(phi(x, y, z), z)**2 + kappa*Derivative(rho(x, y, z), y)**2 - kappa*Derivative(rho(x, y, z), z)**2 + u_y**2*rho(x, y, z) - u_z**2*rho(x, y, z)],\n",
       "[                                                                                                                                                                                                                                                                                                                                                                                                                                                                                                                                         kappa*Derivative(phi(x, y, z), x)*Derivative(phi(x, y, z), y) + kappa*Derivative(rho(x, y, z), x)*Derivative(rho(x, y, z), y) + u_x*u_y*rho(x, y, z)],\n",
       "[                                                                                                                                                                                                                                                                                                                                                                                                                                                                                                                                         kappa*Derivative(phi(x, y, z), y)*Derivative(phi(x, y, z), z) + kappa*Derivative(rho(x, y, z), y)*Derivative(rho(x, y, z), z) + u_y*u_z*rho(x, y, z)],\n",
       "[                                                                                                                                                                                                                                                                                                                                                                                                                                                                                                                                         kappa*Derivative(phi(x, y, z), x)*Derivative(phi(x, y, z), z) + kappa*Derivative(rho(x, y, z), x)*Derivative(rho(x, y, z), z) + u_x*u_z*rho(x, y, z)],\n",
       "[                                                                                                                                                                                                                                                                                                                                                                                                                                                                                                                                                                                                                                                                                            0],\n",
       "[                                                                                                                                                                                                                                                                                                                                                                                                                                                                                                                                                                                                                                                                                            0],\n",
       "[                                                                                                                                                                                                                                                                                                                                                                                                                                                                                                                                                                                                                                                                                            0],\n",
       "[                                                                                                                                                                                                                                                                                                                                                                                                                                                                                                                                                                                                                                                                                            0],\n",
       "[                                                                                                                                                                                                                                                                                                                                                                                                                                                                                                                                                                                                                                                                                            0],\n",
       "[                                                                                                                                                                                                                                                                                                                                                                                                                                                                                                                                                                                                                                                                                            0],\n",
       "[                                                       3*kappa*phi(x, y, z)*Derivative(phi(x, y, z), (x, 2)) + 3*kappa*phi(x, y, z)*Derivative(phi(x, y, z), (y, 2)) + 3*kappa*phi(x, y, z)*Derivative(phi(x, y, z), (z, 2)) + 3*kappa*rho(x, y, z)*Derivative(rho(x, y, z), (x, 2)) + 3*kappa*rho(x, y, z)*Derivative(rho(x, y, z), (y, 2)) + 3*kappa*rho(x, y, z)*Derivative(rho(x, y, z), (z, 2)) + 3*kappa*Derivative(phi(x, y, z), x)**2/2 + 3*kappa*Derivative(phi(x, y, z), y)**2/2 + 3*kappa*Derivative(phi(x, y, z), z)**2/2 + 3*kappa*Derivative(rho(x, y, z), x)**2/2 + 3*kappa*Derivative(rho(x, y, z), y)**2/2 + 3*kappa*Derivative(rho(x, y, z), z)**2/2 - 3*p_b + rho(x, y, z)],\n",
       "[                                                                                                                                                                                                                                                                                                                                                                                                                                                                           2*kappa*(-2*Derivative(phi(x, y, z), x)**2 + Derivative(phi(x, y, z), y)**2 + Derivative(phi(x, y, z), z)**2 - 2*Derivative(rho(x, y, z), x)**2 + Derivative(rho(x, y, z), y)**2 + Derivative(rho(x, y, z), z)**2)],\n",
       "[                                                                                                                                                                                                                                                                                                                                                                                                                                                                                                                                                 2*kappa*(-Derivative(phi(x, y, z), y)**2 + Derivative(phi(x, y, z), z)**2 - Derivative(rho(x, y, z), y)**2 + Derivative(rho(x, y, z), z)**2)]])"
      ]
     },
     "execution_count": 10,
     "metadata": {},
     "output_type": "execute_result"
    }
   ],
   "source": [
    "mf = sp.simplify(M@feq)\n",
    "mf"
   ]
  },
  {
   "cell_type": "code",
   "execution_count": 11,
   "metadata": {},
   "outputs": [
    {
     "data": {
      "text/latex": [
       "$\\displaystyle \\left[\\begin{matrix}\\phi{\\left(x,y,z \\right)}\\\\u_{x} \\phi{\\left(x,y,z \\right)}\\\\u_{y} \\phi{\\left(x,y,z \\right)}\\\\u_{z} \\phi{\\left(x,y,z \\right)}\\\\3 \\Gamma_{\\phi} \\mu_{\\phi} + u_{x}^{2} \\phi{\\left(x,y,z \\right)} + u_{y}^{2} \\phi{\\left(x,y,z \\right)} + u_{z}^{2} \\phi{\\left(x,y,z \\right)} - \\phi{\\left(x,y,z \\right)}\\\\\\left(2 u_{x}^{2} - u_{y}^{2} - u_{z}^{2}\\right) \\phi{\\left(x,y,z \\right)}\\\\\\left(u_{y}^{2} - u_{z}^{2}\\right) \\phi{\\left(x,y,z \\right)}\\\\u_{x} u_{y} \\phi{\\left(x,y,z \\right)}\\\\u_{y} u_{z} \\phi{\\left(x,y,z \\right)}\\\\u_{x} u_{z} \\phi{\\left(x,y,z \\right)}\\\\0\\\\0\\\\0\\\\0\\\\0\\\\0\\\\- 3 \\Gamma_{\\phi} \\mu_{\\phi} + \\phi{\\left(x,y,z \\right)}\\\\0\\\\0\\end{matrix}\\right]$"
      ],
      "text/plain": [
       "Matrix([\n",
       "[                                                                                       phi(x, y, z)],\n",
       "[                                                                                   u_x*phi(x, y, z)],\n",
       "[                                                                                   u_y*phi(x, y, z)],\n",
       "[                                                                                   u_z*phi(x, y, z)],\n",
       "[3*Gamma_phi*mu_phi + u_x**2*phi(x, y, z) + u_y**2*phi(x, y, z) + u_z**2*phi(x, y, z) - phi(x, y, z)],\n",
       "[                                                          (2*u_x**2 - u_y**2 - u_z**2)*phi(x, y, z)],\n",
       "[                                                                     (u_y**2 - u_z**2)*phi(x, y, z)],\n",
       "[                                                                               u_x*u_y*phi(x, y, z)],\n",
       "[                                                                               u_y*u_z*phi(x, y, z)],\n",
       "[                                                                               u_x*u_z*phi(x, y, z)],\n",
       "[                                                                                                  0],\n",
       "[                                                                                                  0],\n",
       "[                                                                                                  0],\n",
       "[                                                                                                  0],\n",
       "[                                                                                                  0],\n",
       "[                                                                                                  0],\n",
       "[                                                                 -3*Gamma_phi*mu_phi + phi(x, y, z)],\n",
       "[                                                                                                  0],\n",
       "[                                                                                                  0]])"
      ]
     },
     "execution_count": 11,
     "metadata": {},
     "output_type": "execute_result"
    }
   ],
   "source": [
    "mg = sp.simplify(M@geq)\n",
    "mg"
   ]
  }
 ],
 "metadata": {
  "kernelspec": {
   "display_name": "Python 3",
   "language": "python",
   "name": "python3"
  },
  "language_info": {
   "codemirror_mode": {
    "name": "ipython",
    "version": 3
   },
   "file_extension": ".py",
   "mimetype": "text/x-python",
   "name": "python",
   "nbconvert_exporter": "python",
   "pygments_lexer": "ipython3",
   "version": "3.8.10"
  }
 },
 "nbformat": 4,
 "nbformat_minor": 4
}
