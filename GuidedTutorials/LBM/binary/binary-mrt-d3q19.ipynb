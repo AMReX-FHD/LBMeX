{
 "cells": [
  {
   "cell_type": "code",
   "execution_count": 1,
   "metadata": {},
   "outputs": [],
   "source": [
    "import sympy as sp\n",
    "from lbmpy.stencils import LBStencil, Stencil\n",
    "from lbmpy.moments import MOMENT_SYMBOLS, moment_matrix"
   ]
  },
  {
   "cell_type": "code",
   "execution_count": 2,
   "metadata": {},
   "outputs": [],
   "source": [
    "d3q19 = LBStencil(Stencil.D3Q19)"
   ]
  },
  {
   "cell_type": "code",
   "execution_count": 3,
   "metadata": {
    "scrolled": false
   },
   "outputs": [],
   "source": [
    "x, y, z = MOMENT_SYMBOLS\n",
    "one = sp.core.sympify(1)\n",
    "c2 = x**2+y**2+z**2\n",
    "c4 = c2**2\n",
    "\n",
    "moments = [ \n",
    "    one,\n",
    "    x,\n",
    "    y,\n",
    "    z,\n",
    "    c2-one,\n",
    "    3*x**2-c2,\n",
    "    y**2-z**2,\n",
    "    x*y,\n",
    "    y*z,\n",
    "    z*x,\n",
    "    (3*c2-5)*x,\n",
    "    (3*c2-5)*y,\n",
    "    (3*c2-5)*z,\n",
    "    (y**2-z**2)*x,\n",
    "    (z**2-x**2)*y,\n",
    "    (x**2-y**2)*z,\n",
    "    3*c4-6*c2+one,\n",
    "    (2*c2-3)*(3*x**2-c2),\n",
    "    (2*c2-3)*(y**2-z**2)\n",
    "]\n",
    "\n",
    "M = moment_matrix(moments, stencil=d3q19)"
   ]
  },
  {
   "cell_type": "code",
   "execution_count": 4,
   "metadata": {},
   "outputs": [],
   "source": [
    "five36 = sp.Rational(5,36)\n",
    "one9 = sp.Rational(1,9)\n",
    "one12 = sp.Rational(1,12)\n",
    "one36 = sp.Rational(1,36)\n",
    "one72 = sp.Rational(1,72)\n",
    "\n",
    "cs = sp.sqrt(sp.Rational(1,3))\n",
    "\n",
    "w = [ sp.Rational(1,3) ] + [ sp.Rational(1,18) ]*6 + [ sp.Rational(1,36) ]*12\n",
    "\n",
    "ww =  [ [[0]*3]*3 ] \\\n",
    "    + [ [ [ -one9, 0, 0], [0, five36, 0], [0, 0,  -one9] ] ]*2 \\\n",
    "    + [ [ [five36, 0, 0], [0,  -one9, 0], [0, 0,  -one9] ] ]*2 \\\n",
    "    + [ [ [ -one9, 0, 0], [0,  -one9, 0], [0, 0, five36] ] ]*2 \\\n",
    "    + [ [ [-one72, -one12, 0], [ -one12, -one72, 0], [ 0, 0, one36] ],\n",
    "        [ [-one72,  one12, 0], [  one12, -one72, 0], [ 0, 0, one36] ],\n",
    "        [ [-one72,  one12, 0], [  one12, -one72, 0], [ 0, 0, one36] ],\n",
    "        [ [-one72, -one12, 0], [ -one12, -one72, 0], [ 0, 0, one36] ],\n",
    "        [ [ one36, 0, 0], [ 0, -one72,  one12], [ 0,  one12, -one72] ],\n",
    "        [ [ one36, 0, 0], [ 0, -one72, -one12], [ 0, -one12, -one72] ],\n",
    "        [ [-one72, 0, -one12], [ 0, one36, 0], [ -one12, 0, -one72] ],\n",
    "        [ [-one72, 0,  one12], [ 0, one36, 0], [  one12, 0, -one72] ],\n",
    "        [ [ one36, 0, 0], [ 0, -one72, -one12], [ 0, -one12, -one72] ],\n",
    "        [ [ one36, 0, 0], [ 0, -one72,  one12], [ 0,  one12, -one72] ],\n",
    "        [ [-one72, 0,  one12], [ 0, one36, 0], [  one12, 0, -one72] ],\n",
    "        [ [-one72, 0, -one12], [ 0, one36, 0], [ -one12, 0, -one72] ] ]"
   ]
  },
  {
   "cell_type": "code",
   "execution_count": 5,
   "metadata": {},
   "outputs": [],
   "source": [
    "x, y, z = sp.symbols(['x','y','z'])\n",
    "k = sp.symbols('kappa')\n",
    "Gamma = sp.symbols('Gamma')\n",
    "rho = sp.symbols('rho',cls=sp.Function)(x,y,z)\n",
    "phi = sp.symbols('phi',cls=sp.Function)(x,y,z)\n",
    "pb = sp.symbols('p_b')\n",
    "mu = sp.symbols('mu')\n",
    "u = sp.Matrix(sp.symbols('u_0, u_1, u_2'))\n",
    "D2rho = sum([ sp.Derivative(rho,a,2) for a in [x,y,z] ])\n",
    "D2phi = sum([ sp.Derivative(phi,a,2) for a in [x,y,z] ])\n",
    "Drho2 = sp.Matrix([ [ sp.Derivative(rho,a)*sp.Derivative(rho,b) for b in [x,y,z] ] for a in [x,y,z] ])\n",
    "Dphi2 = sp.Matrix([ [ sp.Derivative(phi,a)*sp.Derivative(phi,b) for b in [x,y,z] ] for a in [x,y,z] ])\n",
    "G = k*Drho2+k*Dphi2\n",
    "\n",
    "c = sp.Matrix(d3q19)\n",
    "\n",
    "def f(i):\n",
    "    f = w[i]/cs**2*pb \\\n",
    "        + w[i]/cs**2*rho*c[i,:].dot(u) \\\n",
    "        + w[i]/(2*cs**4)*rho*(u.T@(c[i,:].T@c[i,:]-cs**2*sp.eye(3))@u)[0] \\\n",
    "        - w[i]/cs**2*(k*rho*D2rho+k*phi*D2phi) \\\n",
    "        + sum([ ww[i][j][j]/cs**2*G[j,j] for j in range(3) ]) \\\n",
    "        + sum([ ww[i][j][(j+1)%3]/cs**2*G[j,(j+1)%3] for j in range(3) ])\n",
    "    return f\n",
    "\n",
    "feq = [ f(i) for i in range(0,19) ]\n",
    "feq[0] = rho - sum(feq[1:])\n",
    "\n",
    "def g(i):\n",
    "    g = w[i]/cs**2*Gamma*mu \\\n",
    "        + w[i]/cs**2*phi*c[i,:].dot(u) \\\n",
    "        + w[i]/(2*cs**4)*phi*u.dot((c[i,:].T@c[i,:]-cs**2*sp.eye(3))@u)\n",
    "    return g\n",
    "\n",
    "geq = [ g(i) for i in range(0,19) ]\n",
    "geq[0] = phi - sum(geq[1:])"
   ]
  },
  {
   "cell_type": "code",
   "execution_count": 6,
   "metadata": {},
   "outputs": [
    {
     "data": {
      "text/latex": [
       "$\\displaystyle \\left[\\begin{matrix}\\rho{\\left(x,y,z \\right)}\\\\u_{0} \\rho{\\left(x,y,z \\right)}\\\\u_{1} \\rho{\\left(x,y,z \\right)}\\\\u_{2} \\rho{\\left(x,y,z \\right)}\\\\- 3 \\kappa \\phi{\\left(x,y,z \\right)} \\frac{\\partial^{2}}{\\partial x^{2}} \\phi{\\left(x,y,z \\right)} - 3 \\kappa \\phi{\\left(x,y,z \\right)} \\frac{\\partial^{2}}{\\partial y^{2}} \\phi{\\left(x,y,z \\right)} - 3 \\kappa \\phi{\\left(x,y,z \\right)} \\frac{\\partial^{2}}{\\partial z^{2}} \\phi{\\left(x,y,z \\right)} - 3 \\kappa \\rho{\\left(x,y,z \\right)} \\frac{\\partial^{2}}{\\partial x^{2}} \\rho{\\left(x,y,z \\right)} - 3 \\kappa \\rho{\\left(x,y,z \\right)} \\frac{\\partial^{2}}{\\partial y^{2}} \\rho{\\left(x,y,z \\right)} - 3 \\kappa \\rho{\\left(x,y,z \\right)} \\frac{\\partial^{2}}{\\partial z^{2}} \\rho{\\left(x,y,z \\right)} - \\frac{\\kappa \\left(\\frac{\\partial}{\\partial x} \\phi{\\left(x,y,z \\right)}\\right)^{2}}{2} - \\frac{\\kappa \\left(\\frac{\\partial}{\\partial y} \\phi{\\left(x,y,z \\right)}\\right)^{2}}{2} - \\frac{\\kappa \\left(\\frac{\\partial}{\\partial z} \\phi{\\left(x,y,z \\right)}\\right)^{2}}{2} - \\frac{\\kappa \\left(\\frac{\\partial}{\\partial x} \\rho{\\left(x,y,z \\right)}\\right)^{2}}{2} - \\frac{\\kappa \\left(\\frac{\\partial}{\\partial y} \\rho{\\left(x,y,z \\right)}\\right)^{2}}{2} - \\frac{\\kappa \\left(\\frac{\\partial}{\\partial z} \\rho{\\left(x,y,z \\right)}\\right)^{2}}{2} + 3 p_{b} + u_{0}^{2} \\rho{\\left(x,y,z \\right)} + u_{1}^{2} \\rho{\\left(x,y,z \\right)} + u_{2}^{2} \\rho{\\left(x,y,z \\right)} - \\rho{\\left(x,y,z \\right)}\\\\2 \\kappa \\left(\\frac{\\partial}{\\partial x} \\phi{\\left(x,y,z \\right)}\\right)^{2} - \\kappa \\left(\\frac{\\partial}{\\partial y} \\phi{\\left(x,y,z \\right)}\\right)^{2} - \\kappa \\left(\\frac{\\partial}{\\partial z} \\phi{\\left(x,y,z \\right)}\\right)^{2} + 2 \\kappa \\left(\\frac{\\partial}{\\partial x} \\rho{\\left(x,y,z \\right)}\\right)^{2} - \\kappa \\left(\\frac{\\partial}{\\partial y} \\rho{\\left(x,y,z \\right)}\\right)^{2} - \\kappa \\left(\\frac{\\partial}{\\partial z} \\rho{\\left(x,y,z \\right)}\\right)^{2} + 2 u_{0}^{2} \\rho{\\left(x,y,z \\right)} - u_{1}^{2} \\rho{\\left(x,y,z \\right)} - u_{2}^{2} \\rho{\\left(x,y,z \\right)}\\\\\\kappa \\left(\\frac{\\partial}{\\partial y} \\phi{\\left(x,y,z \\right)}\\right)^{2} - \\kappa \\left(\\frac{\\partial}{\\partial z} \\phi{\\left(x,y,z \\right)}\\right)^{2} + \\kappa \\left(\\frac{\\partial}{\\partial y} \\rho{\\left(x,y,z \\right)}\\right)^{2} - \\kappa \\left(\\frac{\\partial}{\\partial z} \\rho{\\left(x,y,z \\right)}\\right)^{2} + u_{1}^{2} \\rho{\\left(x,y,z \\right)} - u_{2}^{2} \\rho{\\left(x,y,z \\right)}\\\\\\kappa \\frac{\\partial}{\\partial x} \\phi{\\left(x,y,z \\right)} \\frac{\\partial}{\\partial y} \\phi{\\left(x,y,z \\right)} + \\kappa \\frac{\\partial}{\\partial x} \\rho{\\left(x,y,z \\right)} \\frac{\\partial}{\\partial y} \\rho{\\left(x,y,z \\right)} + u_{0} u_{1} \\rho{\\left(x,y,z \\right)}\\\\\\kappa \\frac{\\partial}{\\partial y} \\phi{\\left(x,y,z \\right)} \\frac{\\partial}{\\partial z} \\phi{\\left(x,y,z \\right)} + \\kappa \\frac{\\partial}{\\partial y} \\rho{\\left(x,y,z \\right)} \\frac{\\partial}{\\partial z} \\rho{\\left(x,y,z \\right)} + u_{1} u_{2} \\rho{\\left(x,y,z \\right)}\\\\\\kappa \\frac{\\partial}{\\partial x} \\phi{\\left(x,y,z \\right)} \\frac{\\partial}{\\partial z} \\phi{\\left(x,y,z \\right)} + \\kappa \\frac{\\partial}{\\partial x} \\rho{\\left(x,y,z \\right)} \\frac{\\partial}{\\partial z} \\rho{\\left(x,y,z \\right)} + u_{0} u_{2} \\rho{\\left(x,y,z \\right)}\\\\0\\\\0\\\\0\\\\0\\\\0\\\\0\\\\3 \\kappa \\phi{\\left(x,y,z \\right)} \\frac{\\partial^{2}}{\\partial x^{2}} \\phi{\\left(x,y,z \\right)} + 3 \\kappa \\phi{\\left(x,y,z \\right)} \\frac{\\partial^{2}}{\\partial y^{2}} \\phi{\\left(x,y,z \\right)} + 3 \\kappa \\phi{\\left(x,y,z \\right)} \\frac{\\partial^{2}}{\\partial z^{2}} \\phi{\\left(x,y,z \\right)} + 3 \\kappa \\rho{\\left(x,y,z \\right)} \\frac{\\partial^{2}}{\\partial x^{2}} \\rho{\\left(x,y,z \\right)} + 3 \\kappa \\rho{\\left(x,y,z \\right)} \\frac{\\partial^{2}}{\\partial y^{2}} \\rho{\\left(x,y,z \\right)} + 3 \\kappa \\rho{\\left(x,y,z \\right)} \\frac{\\partial^{2}}{\\partial z^{2}} \\rho{\\left(x,y,z \\right)} + \\frac{3 \\kappa \\left(\\frac{\\partial}{\\partial x} \\phi{\\left(x,y,z \\right)}\\right)^{2}}{2} + \\frac{3 \\kappa \\left(\\frac{\\partial}{\\partial y} \\phi{\\left(x,y,z \\right)}\\right)^{2}}{2} + \\frac{3 \\kappa \\left(\\frac{\\partial}{\\partial z} \\phi{\\left(x,y,z \\right)}\\right)^{2}}{2} + \\frac{3 \\kappa \\left(\\frac{\\partial}{\\partial x} \\rho{\\left(x,y,z \\right)}\\right)^{2}}{2} + \\frac{3 \\kappa \\left(\\frac{\\partial}{\\partial y} \\rho{\\left(x,y,z \\right)}\\right)^{2}}{2} + \\frac{3 \\kappa \\left(\\frac{\\partial}{\\partial z} \\rho{\\left(x,y,z \\right)}\\right)^{2}}{2} - 3 p_{b} + \\rho{\\left(x,y,z \\right)}\\\\2 \\kappa \\left(- 2 \\left(\\frac{\\partial}{\\partial x} \\phi{\\left(x,y,z \\right)}\\right)^{2} + \\left(\\frac{\\partial}{\\partial y} \\phi{\\left(x,y,z \\right)}\\right)^{2} + \\left(\\frac{\\partial}{\\partial z} \\phi{\\left(x,y,z \\right)}\\right)^{2} - 2 \\left(\\frac{\\partial}{\\partial x} \\rho{\\left(x,y,z \\right)}\\right)^{2} + \\left(\\frac{\\partial}{\\partial y} \\rho{\\left(x,y,z \\right)}\\right)^{2} + \\left(\\frac{\\partial}{\\partial z} \\rho{\\left(x,y,z \\right)}\\right)^{2}\\right)\\\\2 \\kappa \\left(- \\left(\\frac{\\partial}{\\partial y} \\phi{\\left(x,y,z \\right)}\\right)^{2} + \\left(\\frac{\\partial}{\\partial z} \\phi{\\left(x,y,z \\right)}\\right)^{2} - \\left(\\frac{\\partial}{\\partial y} \\rho{\\left(x,y,z \\right)}\\right)^{2} + \\left(\\frac{\\partial}{\\partial z} \\rho{\\left(x,y,z \\right)}\\right)^{2}\\right)\\end{matrix}\\right]$"
      ],
      "text/plain": [
       "Matrix([\n",
       "[                                                                                                                                                                                                                                                                                                                                                                                                                                                                                                                                                                                                                                                                                 rho(x, y, z)],\n",
       "[                                                                                                                                                                                                                                                                                                                                                                                                                                                                                                                                                                                                                                                                             u_0*rho(x, y, z)],\n",
       "[                                                                                                                                                                                                                                                                                                                                                                                                                                                                                                                                                                                                                                                                             u_1*rho(x, y, z)],\n",
       "[                                                                                                                                                                                                                                                                                                                                                                                                                                                                                                                                                                                                                                                                             u_2*rho(x, y, z)],\n",
       "[-3*kappa*phi(x, y, z)*Derivative(phi(x, y, z), (x, 2)) - 3*kappa*phi(x, y, z)*Derivative(phi(x, y, z), (y, 2)) - 3*kappa*phi(x, y, z)*Derivative(phi(x, y, z), (z, 2)) - 3*kappa*rho(x, y, z)*Derivative(rho(x, y, z), (x, 2)) - 3*kappa*rho(x, y, z)*Derivative(rho(x, y, z), (y, 2)) - 3*kappa*rho(x, y, z)*Derivative(rho(x, y, z), (z, 2)) - kappa*Derivative(phi(x, y, z), x)**2/2 - kappa*Derivative(phi(x, y, z), y)**2/2 - kappa*Derivative(phi(x, y, z), z)**2/2 - kappa*Derivative(rho(x, y, z), x)**2/2 - kappa*Derivative(rho(x, y, z), y)**2/2 - kappa*Derivative(rho(x, y, z), z)**2/2 + 3*p_b + u_0**2*rho(x, y, z) + u_1**2*rho(x, y, z) + u_2**2*rho(x, y, z) - rho(x, y, z)],\n",
       "[                                                                                                                                                                                                                                                                                                                                                                              2*kappa*Derivative(phi(x, y, z), x)**2 - kappa*Derivative(phi(x, y, z), y)**2 - kappa*Derivative(phi(x, y, z), z)**2 + 2*kappa*Derivative(rho(x, y, z), x)**2 - kappa*Derivative(rho(x, y, z), y)**2 - kappa*Derivative(rho(x, y, z), z)**2 + 2*u_0**2*rho(x, y, z) - u_1**2*rho(x, y, z) - u_2**2*rho(x, y, z)],\n",
       "[                                                                                                                                                                                                                                                                                                                                                                                                                                                                                        kappa*Derivative(phi(x, y, z), y)**2 - kappa*Derivative(phi(x, y, z), z)**2 + kappa*Derivative(rho(x, y, z), y)**2 - kappa*Derivative(rho(x, y, z), z)**2 + u_1**2*rho(x, y, z) - u_2**2*rho(x, y, z)],\n",
       "[                                                                                                                                                                                                                                                                                                                                                                                                                                                                                                                                         kappa*Derivative(phi(x, y, z), x)*Derivative(phi(x, y, z), y) + kappa*Derivative(rho(x, y, z), x)*Derivative(rho(x, y, z), y) + u_0*u_1*rho(x, y, z)],\n",
       "[                                                                                                                                                                                                                                                                                                                                                                                                                                                                                                                                         kappa*Derivative(phi(x, y, z), y)*Derivative(phi(x, y, z), z) + kappa*Derivative(rho(x, y, z), y)*Derivative(rho(x, y, z), z) + u_1*u_2*rho(x, y, z)],\n",
       "[                                                                                                                                                                                                                                                                                                                                                                                                                                                                                                                                         kappa*Derivative(phi(x, y, z), x)*Derivative(phi(x, y, z), z) + kappa*Derivative(rho(x, y, z), x)*Derivative(rho(x, y, z), z) + u_0*u_2*rho(x, y, z)],\n",
       "[                                                                                                                                                                                                                                                                                                                                                                                                                                                                                                                                                                                                                                                                                            0],\n",
       "[                                                                                                                                                                                                                                                                                                                                                                                                                                                                                                                                                                                                                                                                                            0],\n",
       "[                                                                                                                                                                                                                                                                                                                                                                                                                                                                                                                                                                                                                                                                                            0],\n",
       "[                                                                                                                                                                                                                                                                                                                                                                                                                                                                                                                                                                                                                                                                                            0],\n",
       "[                                                                                                                                                                                                                                                                                                                                                                                                                                                                                                                                                                                                                                                                                            0],\n",
       "[                                                                                                                                                                                                                                                                                                                                                                                                                                                                                                                                                                                                                                                                                            0],\n",
       "[                                                       3*kappa*phi(x, y, z)*Derivative(phi(x, y, z), (x, 2)) + 3*kappa*phi(x, y, z)*Derivative(phi(x, y, z), (y, 2)) + 3*kappa*phi(x, y, z)*Derivative(phi(x, y, z), (z, 2)) + 3*kappa*rho(x, y, z)*Derivative(rho(x, y, z), (x, 2)) + 3*kappa*rho(x, y, z)*Derivative(rho(x, y, z), (y, 2)) + 3*kappa*rho(x, y, z)*Derivative(rho(x, y, z), (z, 2)) + 3*kappa*Derivative(phi(x, y, z), x)**2/2 + 3*kappa*Derivative(phi(x, y, z), y)**2/2 + 3*kappa*Derivative(phi(x, y, z), z)**2/2 + 3*kappa*Derivative(rho(x, y, z), x)**2/2 + 3*kappa*Derivative(rho(x, y, z), y)**2/2 + 3*kappa*Derivative(rho(x, y, z), z)**2/2 - 3*p_b + rho(x, y, z)],\n",
       "[                                                                                                                                                                                                                                                                                                                                                                                                                                                                           2*kappa*(-2*Derivative(phi(x, y, z), x)**2 + Derivative(phi(x, y, z), y)**2 + Derivative(phi(x, y, z), z)**2 - 2*Derivative(rho(x, y, z), x)**2 + Derivative(rho(x, y, z), y)**2 + Derivative(rho(x, y, z), z)**2)],\n",
       "[                                                                                                                                                                                                                                                                                                                                                                                                                                                                                                                                                 2*kappa*(-Derivative(phi(x, y, z), y)**2 + Derivative(phi(x, y, z), z)**2 - Derivative(rho(x, y, z), y)**2 + Derivative(rho(x, y, z), z)**2)]])"
      ]
     },
     "execution_count": 6,
     "metadata": {},
     "output_type": "execute_result"
    }
   ],
   "source": [
    "mf = M@sp.Matrix(feq)\n",
    "sp.simplify(mf)"
   ]
  },
  {
   "cell_type": "code",
   "execution_count": 7,
   "metadata": {},
   "outputs": [
    {
     "data": {
      "text/latex": [
       "$\\displaystyle \\left[\\begin{matrix}\\phi{\\left(x,y,z \\right)}\\\\u_{0} \\phi{\\left(x,y,z \\right)}\\\\u_{1} \\phi{\\left(x,y,z \\right)}\\\\u_{2} \\phi{\\left(x,y,z \\right)}\\\\3 \\Gamma \\mu + u_{0}^{2} \\phi{\\left(x,y,z \\right)} + u_{1}^{2} \\phi{\\left(x,y,z \\right)} + u_{2}^{2} \\phi{\\left(x,y,z \\right)} - \\phi{\\left(x,y,z \\right)}\\\\\\left(2 u_{0}^{2} - u_{1}^{2} - u_{2}^{2}\\right) \\phi{\\left(x,y,z \\right)}\\\\\\left(u_{1}^{2} - u_{2}^{2}\\right) \\phi{\\left(x,y,z \\right)}\\\\u_{0} u_{1} \\phi{\\left(x,y,z \\right)}\\\\u_{1} u_{2} \\phi{\\left(x,y,z \\right)}\\\\u_{0} u_{2} \\phi{\\left(x,y,z \\right)}\\\\0\\\\0\\\\0\\\\0\\\\0\\\\0\\\\- 3 \\Gamma \\mu + \\phi{\\left(x,y,z \\right)}\\\\0\\\\0\\end{matrix}\\right]$"
      ],
      "text/plain": [
       "Matrix([\n",
       "[                                                                               phi(x, y, z)],\n",
       "[                                                                           u_0*phi(x, y, z)],\n",
       "[                                                                           u_1*phi(x, y, z)],\n",
       "[                                                                           u_2*phi(x, y, z)],\n",
       "[3*Gamma*mu + u_0**2*phi(x, y, z) + u_1**2*phi(x, y, z) + u_2**2*phi(x, y, z) - phi(x, y, z)],\n",
       "[                                                  (2*u_0**2 - u_1**2 - u_2**2)*phi(x, y, z)],\n",
       "[                                                             (u_1**2 - u_2**2)*phi(x, y, z)],\n",
       "[                                                                       u_0*u_1*phi(x, y, z)],\n",
       "[                                                                       u_1*u_2*phi(x, y, z)],\n",
       "[                                                                       u_0*u_2*phi(x, y, z)],\n",
       "[                                                                                          0],\n",
       "[                                                                                          0],\n",
       "[                                                                                          0],\n",
       "[                                                                                          0],\n",
       "[                                                                                          0],\n",
       "[                                                                                          0],\n",
       "[                                                                 -3*Gamma*mu + phi(x, y, z)],\n",
       "[                                                                                          0],\n",
       "[                                                                                          0]])"
      ]
     },
     "execution_count": 7,
     "metadata": {},
     "output_type": "execute_result"
    }
   ],
   "source": [
    "mg = M@sp.Matrix(geq)\n",
    "sp.simplify(mg)"
   ]
  }
 ],
 "metadata": {
  "kernelspec": {
   "display_name": "Python 3",
   "language": "python",
   "name": "python3"
  },
  "language_info": {
   "codemirror_mode": {
    "name": "ipython",
    "version": 3
   },
   "file_extension": ".py",
   "mimetype": "text/x-python",
   "name": "python",
   "nbconvert_exporter": "python",
   "pygments_lexer": "ipython3",
   "version": "3.8.10"
  }
 },
 "nbformat": 4,
 "nbformat_minor": 4
}
